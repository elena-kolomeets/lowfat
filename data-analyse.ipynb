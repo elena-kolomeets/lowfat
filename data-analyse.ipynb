{
 "cells": [
  {
   "cell_type": "markdown",
   "metadata": {},
   "source": [
    "# Data Analyse\n",
    "\n",
    "If you want to do your own analyse of the data on `db.sqlite3` and are going to use Python you can take advantage of some Django code. This Jupyter Notebook will help you to enable the Django code."
   ]
  },
  {
   "cell_type": "markdown",
   "metadata": {},
   "source": [
    "## Setup and run\n",
    "\n",
    "To setup your environment to run this Jupyter notebook you need to install some packages. Our suggestion is to run\n",
    "\n",
    "~~~\n",
    "$ python -m pip install -r requirements.txt\n",
    "$ python -m pip install -r requirements-jupyter.txt\n",
    "~~~\n",
    "\n",
    "from your terminal.\n",
    "\n",
    "To start Jupyter server, run\n",
    "\n",
    "~~~\n",
    "$ python manage.py shell_plus --notebook\n",
    "~~~"
   ]
  },
  {
   "cell_type": "markdown",
   "metadata": {},
   "source": [
    "## Basic (Django Part)\n",
    "\n",
    "You can use all power of Django on the notebook. For example, to gain access to the models you can use"
   ]
  },
  {
   "cell_type": "code",
   "execution_count": 7,
   "metadata": {
    "collapsed": true
   },
   "outputs": [],
   "source": [
    "import lowfat.models as models"
   ]
  },
  {
   "cell_type": "markdown",
   "metadata": {},
   "source": [
    "To select all the fellows you can use"
   ]
  },
  {
   "cell_type": "code",
   "execution_count": 9,
   "metadata": {},
   "outputs": [
    {
     "data": {
      "text/plain": [
       "<QuerySet [<Claimant: Black Widow (2016 ✓)>, <Claimant: The Hulk (2016 ✓)>, <Claimant: Green Arrow (2015 ✓)>, <Claimant: Iron Man (2015 ✓)>, <Claimant: Captain America (2014 ✓)>]>"
      ]
     },
     "execution_count": 9,
     "metadata": {},
     "output_type": "execute_result"
    }
   ],
   "source": [
    "fellows = models.Claimant.objects.filter(selected=True)\n",
    "fellows"
   ]
  },
  {
   "cell_type": "markdown",
   "metadata": {},
   "source": [
    "Remember that the `Claimant` table can have entries that aren't fellows and because of it we need to use `.filter(selected=True)`."
   ]
  },
  {
   "cell_type": "markdown",
   "metadata": {},
   "source": [
    "## Basic (Pandas Part)\n",
    "\n",
    "You can use Pandas with Django."
   ]
  },
  {
   "cell_type": "code",
   "execution_count": 10,
   "metadata": {},
   "outputs": [
    {
     "data": {
      "text/html": [
       "<div>\n",
       "<table border=\"1\" class=\"dataframe\">\n",
       "  <thead>\n",
       "    <tr style=\"text-align: right;\">\n",
       "      <th></th>\n",
       "      <th>added</th>\n",
       "      <th>affiliation</th>\n",
       "      <th>application_year</th>\n",
       "      <th>claimantship_grant</th>\n",
       "      <th>data_carpentry_instructor</th>\n",
       "      <th>email</th>\n",
       "      <th>facebook</th>\n",
       "      <th>forenames</th>\n",
       "      <th>funding</th>\n",
       "      <th>funding_notes</th>\n",
       "      <th>...</th>\n",
       "      <th>selected</th>\n",
       "      <th>slug</th>\n",
       "      <th>software_carpentry_instructor</th>\n",
       "      <th>surname</th>\n",
       "      <th>twitter</th>\n",
       "      <th>updated</th>\n",
       "      <th>user_id</th>\n",
       "      <th>website</th>\n",
       "      <th>website_feed</th>\n",
       "      <th>work_description</th>\n",
       "    </tr>\n",
       "  </thead>\n",
       "  <tbody>\n",
       "    <tr>\n",
       "      <th>0</th>\n",
       "      <td>2016-07-07 14:59:46.412</td>\n",
       "      <td>College</td>\n",
       "      <td>2016</td>\n",
       "      <td>3000.00</td>\n",
       "      <td>False</td>\n",
       "      <td>b.widow@averengers.com</td>\n",
       "      <td>BlackWidow</td>\n",
       "      <td>Black</td>\n",
       "      <td>AHRC</td>\n",
       "      <td></td>\n",
       "      <td>...</td>\n",
       "      <td>True</td>\n",
       "      <td>black-widow</td>\n",
       "      <td>False</td>\n",
       "      <td>Widow</td>\n",
       "      <td>BlackWidow</td>\n",
       "      <td>2016-09-01 12:38:05.280</td>\n",
       "      <td>3</td>\n",
       "      <td>http://black-widow.fake/</td>\n",
       "      <td>http://black-widow.fake/feed/</td>\n",
       "      <td>Work.</td>\n",
       "    </tr>\n",
       "    <tr>\n",
       "      <th>1</th>\n",
       "      <td>2016-07-07 14:59:46.412</td>\n",
       "      <td>University</td>\n",
       "      <td>2016</td>\n",
       "      <td>3000.00</td>\n",
       "      <td>False</td>\n",
       "      <td>t.hulk@averengers.com</td>\n",
       "      <td>TheHulk</td>\n",
       "      <td>The</td>\n",
       "      <td>EPSRC</td>\n",
       "      <td></td>\n",
       "      <td>...</td>\n",
       "      <td>True</td>\n",
       "      <td>the-hulk</td>\n",
       "      <td>False</td>\n",
       "      <td>Hulk</td>\n",
       "      <td>TheHulk</td>\n",
       "      <td>2016-09-01 12:37:56.052</td>\n",
       "      <td>2</td>\n",
       "      <td>http://the-hulk.fake/</td>\n",
       "      <td>http://the-hulk.fake/feed/</td>\n",
       "      <td>Work</td>\n",
       "    </tr>\n",
       "    <tr>\n",
       "      <th>2</th>\n",
       "      <td>2016-07-07 14:59:46.412</td>\n",
       "      <td>University</td>\n",
       "      <td>2015</td>\n",
       "      <td>3000.00</td>\n",
       "      <td>False</td>\n",
       "      <td>g.arrow@averengers.com</td>\n",
       "      <td>GreenArrow</td>\n",
       "      <td>Green</td>\n",
       "      <td>EPSRC</td>\n",
       "      <td></td>\n",
       "      <td>...</td>\n",
       "      <td>True</td>\n",
       "      <td>green-arrow</td>\n",
       "      <td>False</td>\n",
       "      <td>Arrow</td>\n",
       "      <td>GreenArrow</td>\n",
       "      <td>2016-09-01 12:36:54.323</td>\n",
       "      <td>4</td>\n",
       "      <td>http://green-arrow.fake/</td>\n",
       "      <td>http://green-arrow.fake/feed/</td>\n",
       "      <td>Work</td>\n",
       "    </tr>\n",
       "    <tr>\n",
       "      <th>3</th>\n",
       "      <td>2016-07-07 14:59:46.412</td>\n",
       "      <td>University</td>\n",
       "      <td>2015</td>\n",
       "      <td>3000.00</td>\n",
       "      <td>False</td>\n",
       "      <td>i.man@averengers.com</td>\n",
       "      <td>IronMan</td>\n",
       "      <td>Iron</td>\n",
       "      <td>EPSRC</td>\n",
       "      <td></td>\n",
       "      <td>...</td>\n",
       "      <td>True</td>\n",
       "      <td>iron-man</td>\n",
       "      <td>False</td>\n",
       "      <td>Man</td>\n",
       "      <td>IronMan</td>\n",
       "      <td>2016-09-01 12:37:20.275</td>\n",
       "      <td>5</td>\n",
       "      <td>http://iron-man.fake/</td>\n",
       "      <td>http://iron-man.fake/feed/</td>\n",
       "      <td>Tech</td>\n",
       "    </tr>\n",
       "    <tr>\n",
       "      <th>4</th>\n",
       "      <td>2016-07-07 14:59:46.412</td>\n",
       "      <td>College</td>\n",
       "      <td>2014</td>\n",
       "      <td>3000.00</td>\n",
       "      <td>False</td>\n",
       "      <td>c.america@averengers.com</td>\n",
       "      <td>CaptainAmerica</td>\n",
       "      <td>Captain</td>\n",
       "      <td>Self-funded</td>\n",
       "      <td></td>\n",
       "      <td>...</td>\n",
       "      <td>True</td>\n",
       "      <td>captain-america</td>\n",
       "      <td>False</td>\n",
       "      <td>America</td>\n",
       "      <td>CaptainAmerica</td>\n",
       "      <td>2016-09-01 12:37:41.559</td>\n",
       "      <td>6</td>\n",
       "      <td>http://captain-america.fake/</td>\n",
       "      <td>http://captain-america.fake/feed/</td>\n",
       "      <td>Work</td>\n",
       "    </tr>\n",
       "  </tbody>\n",
       "</table>\n",
       "<p>5 rows × 36 columns</p>\n",
       "</div>"
      ],
      "text/plain": [
       "                    added affiliation  application_year claimantship_grant  \\\n",
       "0 2016-07-07 14:59:46.412     College              2016            3000.00   \n",
       "1 2016-07-07 14:59:46.412  University              2016            3000.00   \n",
       "2 2016-07-07 14:59:46.412  University              2015            3000.00   \n",
       "3 2016-07-07 14:59:46.412  University              2015            3000.00   \n",
       "4 2016-07-07 14:59:46.412     College              2014            3000.00   \n",
       "\n",
       "  data_carpentry_instructor                     email        facebook  \\\n",
       "0                     False    b.widow@averengers.com      BlackWidow   \n",
       "1                     False     t.hulk@averengers.com         TheHulk   \n",
       "2                     False    g.arrow@averengers.com      GreenArrow   \n",
       "3                     False      i.man@averengers.com         IronMan   \n",
       "4                     False  c.america@averengers.com  CaptainAmerica   \n",
       "\n",
       "  forenames      funding funding_notes        ...        selected  \\\n",
       "0     Black         AHRC                      ...            True   \n",
       "1       The        EPSRC                      ...            True   \n",
       "2     Green        EPSRC                      ...            True   \n",
       "3      Iron        EPSRC                      ...            True   \n",
       "4   Captain  Self-funded                      ...            True   \n",
       "\n",
       "              slug software_carpentry_instructor  surname         twitter  \\\n",
       "0      black-widow                         False    Widow      BlackWidow   \n",
       "1         the-hulk                         False     Hulk         TheHulk   \n",
       "2      green-arrow                         False    Arrow      GreenArrow   \n",
       "3         iron-man                         False      Man         IronMan   \n",
       "4  captain-america                         False  America  CaptainAmerica   \n",
       "\n",
       "                  updated user_id                       website  \\\n",
       "0 2016-09-01 12:38:05.280       3      http://black-widow.fake/   \n",
       "1 2016-09-01 12:37:56.052       2         http://the-hulk.fake/   \n",
       "2 2016-09-01 12:36:54.323       4      http://green-arrow.fake/   \n",
       "3 2016-09-01 12:37:20.275       5         http://iron-man.fake/   \n",
       "4 2016-09-01 12:37:41.559       6  http://captain-america.fake/   \n",
       "\n",
       "                        website_feed  work_description  \n",
       "0      http://black-widow.fake/feed/             Work.  \n",
       "1         http://the-hulk.fake/feed/              Work  \n",
       "2      http://green-arrow.fake/feed/              Work  \n",
       "3         http://iron-man.fake/feed/              Tech  \n",
       "4  http://captain-america.fake/feed/              Work  \n",
       "\n",
       "[5 rows x 36 columns]"
      ]
     },
     "execution_count": 10,
     "metadata": {},
     "output_type": "execute_result"
    }
   ],
   "source": [
    "import pandas as pd\n",
    "\n",
    "pd.DataFrame(list(fellows.values()))"
   ]
  },
  {
   "cell_type": "markdown",
   "metadata": {},
   "source": [
    "When converting a Django `QuerySet` into a Pandas `DataFrame` you will need to as the previous example because so far Pandas can't process Django `QuerySet`s by default."
   ]
  }
 ],
 "metadata": {
  "kernelspec": {
   "display_name": "Django Shell-Plus",
   "language": "python",
   "name": "django_extensions"
  },
  "language_info": {
   "codemirror_mode": {
    "name": "ipython",
    "version": 3
   },
   "file_extension": ".py",
   "mimetype": "text/x-python",
   "name": "python",
   "nbconvert_exporter": "python",
   "pygments_lexer": "ipython3",
   "version": "3.6.0"
  }
 },
 "nbformat": 4,
 "nbformat_minor": 2
}
