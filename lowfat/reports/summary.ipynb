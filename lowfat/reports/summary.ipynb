{
 "cells": [
  {
   "cell_type": "markdown",
   "metadata": {},
   "source": [
    "# Summary"
   ]
  },
  {
   "cell_type": "code",
   "execution_count": null,
   "metadata": {
    "collapsed": true
   },
   "outputs": [],
   "source": [
    "% matplotlib inline\n",
    "import matplotlib\n",
    "#matplotlib.use('AGG')\n",
    "from matplotlib.pyplot import bar, hist, savefig\n",
    "\n",
    "import pandas\n",
    "\n",
    "from django_pandas.io import read_frame\n",
    "\n",
    "from lowfat import models"
   ]
  },
  {
   "cell_type": "code",
   "execution_count": null,
   "metadata": {},
   "outputs": [],
   "source": [
    "claimants_per_year = models.Claimant.objects.all().values('application_year').annotate(total=Count('application_year'))\n",
    "bar(\n",
    "    [claimant[\"application_year\"] for claimant in claimants_per_year],\n",
    "    [claimant[\"total\"] for claimant in claimants_per_year]\n",
    ")"
   ]
  },
  {
   "cell_type": "code",
   "execution_count": null,
   "metadata": {},
   "outputs": [],
   "source": [
    "fund_amount = models.Fund.objects.all().values('budget_approved')\n",
    "hist(\n",
    "    [float(amount['budget_approved']) for amount in fund_amount],\n",
    "    5\n",
    ")"
   ]
  },
  {
   "cell_type": "code",
   "execution_count": null,
   "metadata": {},
   "outputs": [],
   "source": [
    "finances = read_frame(Expense.objects.all()).loc[:, [\"send_to_finance_date\", \"amount_authorized_for_payment\", \"grant\", \"grant_heading\"]]\n",
    "finances.head()"
   ]
  }
 ],
 "metadata": {
  "kernelspec": {
   "display_name": "Django Shell-Plus",
   "language": "python",
   "name": "django_extensions"
  },
  "language_info": {
   "codemirror_mode": {
    "name": "ipython",
    "version": 3
   },
   "file_extension": ".py",
   "mimetype": "text/x-python",
   "name": "python",
   "nbconvert_exporter": "python",
   "pygments_lexer": "ipython3",
   "version": "3.6.0"
  }
 },
 "nbformat": 4,
 "nbformat_minor": 2
}
