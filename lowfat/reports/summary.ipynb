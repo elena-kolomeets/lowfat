{
 "cells": [
  {
   "cell_type": "markdown",
   "metadata": {},
   "source": [
    "# Summary"
   ]
  },
  {
   "cell_type": "code",
   "execution_count": 2,
   "metadata": {},
   "outputs": [],
   "source": [
    "% matplotlib inline\n",
    "import matplotlib\n",
    "#matplotlib.use('AGG')\n",
    "from matplotlib.pyplot import bar, hist, savefig\n",
    "\n",
    "import pandas\n",
    "\n",
    "from django_pandas.io import read_frame\n",
    "\n",
    "from lowfat import models"
   ]
  },
  {
   "cell_type": "code",
   "execution_count": 3,
   "metadata": {},
   "outputs": [
    {
     "data": {
      "text/plain": [
       "<BarContainer object of 462 artists>"
      ]
     },
     "execution_count": 3,
     "metadata": {},
     "output_type": "execute_result"
    },
    {
     "data": {
      "image/png": "[encoded data removed]",
      "text/plain": [
       "<Figure size 432x288 with 1 Axes>"
      ]
     },
     "metadata": {},
     "output_type": "display_data"
    }
   ],
   "source": [
    "claimants_per_year = models.Claimant.objects.all().values('application_year').annotate(total=Count('application_year'))\n",
    "bar(\n",
    "    [claimant[\"application_year\"] for claimant in claimants_per_year],\n",
    "    [claimant[\"total\"] for claimant in claimants_per_year]\n",
    ")"
   ]
  },
  {
   "cell_type": "code",
   "execution_count": 5,
   "metadata": {},
   "outputs": [
    {
     "data": {
      "text/plain": [
       "(array([164.,  66.,  21.,  15.,   4.]),\n",
       " array([   0.,  600., 1200., 1800., 2400., 3000.]),\n",
       " <a list of 5 Patch objects>)"
      ]
     },
     "execution_count": 5,
     "metadata": {},
     "output_type": "execute_result"
    },
    {
     "data": {
      "image/png": "[encoded data removed]",
      "text/plain": [
       "<Figure size 432x288 with 1 Axes>"
      ]
     },
     "metadata": {},
     "output_type": "display_data"
    }
   ],
   "source": [
    "fund_amount = models.Fund.objects.all().values('budget_approved')\n",
    "hist(\n",
    "    [float(amount['budget_approved']) for amount in fund_amount],\n",
    "    5\n",
    ")"
   ]
  },
  {
   "cell_type": "code",
   "execution_count": 8,
   "metadata": {},
   "outputs": [
    {
     "data": {
      "text/html": [
       "<div>\n",
       "<style scoped>\n",
       "    .dataframe tbody tr th:only-of-type {\n",
       "        vertical-align: middle;\n",
       "    }\n",
       "\n",
       "    .dataframe tbody tr th {\n",
       "        vertical-align: top;\n",
       "    }\n",
       "\n",
       "    .dataframe thead th {\n",
       "        text-align: right;\n",
       "    }\n",
       "</style>\n",
       "<table border=\"1\" class=\"dataframe\">\n",
       "  <thead>\n",
       "    <tr style=\"text-align: right;\">\n",
       "      <th></th>\n",
       "      <th>send_to_finance_date</th>\n",
       "      <th>amount_authorized_for_payment</th>\n",
       "      <th>grant</th>\n",
       "      <th>grant_heading</th>\n",
       "    </tr>\n",
       "  </thead>\n",
       "  <tbody>\n",
       "    <tr>\n",
       "      <th>0</th>\n",
       "      <td>None</td>\n",
       "      <td>231.99</td>\n",
       "      <td>Software Sustainability Institute - Phase 2</td>\n",
       "      <td>Core (Software Sustainability Institute)</td>\n",
       "    </tr>\n",
       "    <tr>\n",
       "      <th>1</th>\n",
       "      <td>None</td>\n",
       "      <td>137.58</td>\n",
       "      <td>Software Sustainability Institute - Phase 2</td>\n",
       "      <td>Grant (inauguration claimantship)</td>\n",
       "    </tr>\n",
       "    <tr>\n",
       "      <th>2</th>\n",
       "      <td>None</td>\n",
       "      <td>92.40</td>\n",
       "      <td>Software Sustainability Institute - Phase 2</td>\n",
       "      <td>Grant (inauguration claimantship)</td>\n",
       "    </tr>\n",
       "    <tr>\n",
       "      <th>3</th>\n",
       "      <td>None</td>\n",
       "      <td>0.00</td>\n",
       "      <td>Software Sustainability Institute - Phase 2</td>\n",
       "      <td>Grant (inauguration claimantship)</td>\n",
       "    </tr>\n",
       "    <tr>\n",
       "      <th>4</th>\n",
       "      <td>None</td>\n",
       "      <td>588.29</td>\n",
       "      <td>Software Sustainability Institute - Phase 2</td>\n",
       "      <td>Grant (inauguration claimantship)</td>\n",
       "    </tr>\n",
       "  </tbody>\n",
       "</table>\n",
       "</div>"
      ],
      "text/plain": [
       "  send_to_finance_date amount_authorized_for_payment  \\\n",
       "0                 None                        231.99   \n",
       "1                 None                        137.58   \n",
       "2                 None                         92.40   \n",
       "3                 None                          0.00   \n",
       "4                 None                        588.29   \n",
       "\n",
       "                                         grant  \\\n",
       "0  Software Sustainability Institute - Phase 2   \n",
       "1  Software Sustainability Institute - Phase 2   \n",
       "2  Software Sustainability Institute - Phase 2   \n",
       "3  Software Sustainability Institute - Phase 2   \n",
       "4  Software Sustainability Institute - Phase 2   \n",
       "\n",
       "                              grant_heading  \n",
       "0  Core (Software Sustainability Institute)  \n",
       "1         Grant (inauguration claimantship)  \n",
       "2         Grant (inauguration claimantship)  \n",
       "3         Grant (inauguration claimantship)  \n",
       "4         Grant (inauguration claimantship)  "
      ]
     },
     "execution_count": 8,
     "metadata": {},
     "output_type": "execute_result"
    }
   ],
   "source": [
    "finances = read_frame(Expense.objects.all()).loc[:, [\"send_to_finance_date\", \"amount_authorized_for_payment\", \"grant\", \"grant_heading\"]]\n",
    "finances.head()"
   ]
  }
 ],
 "metadata": {
  "kernelspec": {
   "display_name": "Django Shell-Plus",
   "language": "python",
   "name": "django_extensions"
  },
  "language_info": {
   "codemirror_mode": {
    "name": "ipython",
    "version": 3
   },
   "file_extension": ".py",
   "mimetype": "text/x-python",
   "name": "python",
   "nbconvert_exporter": "python",
   "pygments_lexer": "ipython3",
   "version": "3.6.0"
  }
 },
 "nbformat": 4,
 "nbformat_minor": 2
}
