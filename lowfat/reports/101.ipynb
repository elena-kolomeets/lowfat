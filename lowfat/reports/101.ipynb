{
 "cells": [
  {
   "cell_type": "markdown",
   "metadata": {},
   "source": [
    "# Data Analyse\n",
    "\n",
    "If you want to do your own analyse of the data on `db.sqlite3` and are going to use Python you can take advantage of some Django code. This Jupyter Notebook will help you to enable the Django code."
   ]
  },
  {
   "cell_type": "markdown",
   "metadata": {},
   "source": [
    "## Setup and run\n",
    "\n",
    "To setup your environment to run this Jupyter notebook you need to install some packages. Our suggestion is to run\n",
    "\n",
    "~~~\n",
    "$ python -m pip install -r requirements.txt\n",
    "$ python -m pip install -r requirements-jupyter.txt\n",
    "~~~\n",
    "\n",
    "from your terminal.\n",
    "\n",
    "To start Jupyter server, run\n",
    "\n",
    "~~~\n",
    "$ python manage.py shell_plus --notebook\n",
    "~~~"
   ]
  },
  {
   "cell_type": "markdown",
   "metadata": {},
   "source": [
    "## Basic (Django Part)\n",
    "\n",
    "You can use all power of Django on the notebook. For example, to gain access to the models you can use"
   ]
  },
  {
   "cell_type": "code",
   "execution_count": null,
   "metadata": {
    "collapsed": true
   },
   "outputs": [],
   "source": [
    "import lowfat.models as models"
   ]
  },
  {
   "cell_type": "markdown",
   "metadata": {},
   "source": [
    "To select all the fellows you can use"
   ]
  },
  {
   "cell_type": "code",
   "execution_count": null,
   "metadata": {},
   "outputs": [],
   "source": [
    "fellows = models.Claimant.objects.filter(fellow=True)\n",
    "fellows"
   ]
  },
  {
   "cell_type": "markdown",
   "metadata": {},
   "source": [
    "Remember that the `Claimant` table can have entries that aren't fellows and because of it we need to use `.filter(selected=True)`."
   ]
  },
  {
   "cell_type": "markdown",
   "metadata": {},
   "source": [
    "## Basic (Pandas Part)\n",
    "\n",
    "You can use Pandas with Django."
   ]
  },
  {
   "cell_type": "code",
   "execution_count": null,
   "metadata": {},
   "outputs": [],
   "source": [
    "from django_pandas.io import read_frame\n",
    "\n",
    "fellows = read_frame(fellows.values())\n",
    "fellows"
   ]
  },
  {
   "cell_type": "markdown",
   "metadata": {},
   "source": [
    "When converting a Django `QuerySet` into a Pandas `DataFrame` you will need to as the previous example because so far Pandas can't process Django `QuerySet`s by default."
   ]
  },
  {
   "cell_type": "code",
   "execution_count": null,
   "metadata": {},
   "outputs": [],
   "source": [
    "expenses = read_frame(Expense.objects.all())\n",
    "expenses"
   ]
  },
  {
   "cell_type": "code",
   "execution_count": null,
   "metadata": {},
   "outputs": [],
   "source": [
    "expenses.sum()"
   ]
  },
  {
   "cell_type": "code",
   "execution_count": null,
   "metadata": {},
   "outputs": [],
   "source": [
    "expenses[\"amount_authorized_for_payment\"].sum()"
   ]
  },
  {
   "cell_type": "markdown",
   "metadata": {},
   "source": [
    "### Pandas table as CSV and as Data URIs\n",
    "\n",
    "For the report, we need to Pandas table as CSV encoded inside data URIs so users can download the CSV file without querying the server."
   ]
  },
  {
   "cell_type": "code",
   "execution_count": null,
   "metadata": {},
   "outputs": [],
   "source": [
    "from base64 import b64encode\n",
    "\n",
    "csv = fellows.to_csv(\n",
    "    header=True,\n",
    "    index=False\n",
    ")\n",
    "\n",
    "b64encode(csv.encode())"
   ]
  },
  {
   "cell_type": "markdown",
   "metadata": {},
   "source": [
    "The output of `b64encode` can be included in\n",
    "\n",
    "```\n",
    "<a download=\"fellows.csv\" href=\"data:application/octet-stream;charset=utf-16le;base64,{{ b64encode_output | safe }}\">Download the data as CSV.</a>\n",
    "```\n",
    "\n",
    "so that user can download the data."
   ]
  },
  {
   "cell_type": "markdown",
   "metadata": {},
   "source": [
    "## Basic (Tagulous)\n",
    "\n",
    "We use [Tagulous](http://radiac.net/projects/django-tagulous/) as a tag library."
   ]
  },
  {
   "cell_type": "code",
   "execution_count": null,
   "metadata": {},
   "outputs": [],
   "source": [
    "funds = models.Fund.objects.all()\n",
    "read_frame(funds)"
   ]
  },
  {
   "cell_type": "markdown",
   "metadata": {},
   "source": [
    "Get a list of all tags:"
   ]
  },
  {
   "cell_type": "code",
   "execution_count": null,
   "metadata": {},
   "outputs": [],
   "source": [
    "funds[0].activity.all()"
   ]
  },
  {
   "cell_type": "markdown",
   "metadata": {},
   "source": [
    "You can loop over each tag:"
   ]
  },
  {
   "cell_type": "code",
   "execution_count": null,
   "metadata": {
    "collapsed": true
   },
   "outputs": [],
   "source": [
    "for tag in funds[0].activity.all():\n",
    "    print(tag.name)"
   ]
  },
  {
   "cell_type": "markdown",
   "metadata": {},
   "source": [
    "Filter for a specific tag:"
   ]
  },
  {
   "cell_type": "code",
   "execution_count": null,
   "metadata": {},
   "outputs": [],
   "source": [
    "models.Fund.objects.filter(activity=\"ssi2/fellowship\")"
   ]
  },
  {
   "cell_type": "markdown",
   "metadata": {},
   "source": [
    "You can query for part of the name of the tag:"
   ]
  },
  {
   "cell_type": "code",
   "execution_count": null,
   "metadata": {},
   "outputs": [],
   "source": [
    "models.Fund.objects.filter(activity__name__contains=\"fellowship\")"
   ]
  },
  {
   "cell_type": "code",
   "execution_count": null,
   "metadata": {
    "collapsed": true
   },
   "outputs": [],
   "source": [
    "for fund in models.Fund.objects.filter(activity__name__contains=\"fellowship\"):\n",
    "    print(\"{} - {}\".format(fund, fund.activity.all()))"
   ]
  }
 ],
 "metadata": {
  "kernelspec": {
   "display_name": "Django Shell-Plus",
   "language": "python",
   "name": "django_extensions"
  },
  "language_info": {
   "codemirror_mode": {
    "name": "ipython",
    "version": 3
   },
   "file_extension": ".py",
   "mimetype": "text/x-python",
   "name": "python",
   "nbconvert_exporter": "python",
   "pygments_lexer": "ipython3",
   "version": "3.6.0"
  }
 },
 "nbformat": 4,
 "nbformat_minor": 2
}
