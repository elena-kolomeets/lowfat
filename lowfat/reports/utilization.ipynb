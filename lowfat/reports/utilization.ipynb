{
 "cells": [
  {
   "cell_type": "markdown",
   "metadata": {},
   "source": [
    "# Utilization"
   ]
  },
  {
   "cell_type": "code",
   "execution_count": null,
   "metadata": {
    "collapsed": true
   },
   "outputs": [],
   "source": [
    "% matplotlib inline\n",
    "import pandas\n",
    "\n",
    "from django_pandas.io import read_frame\n",
    "\n",
    "from lowfat import models"
   ]
  },
  {
   "cell_type": "code",
   "execution_count": null,
   "metadata": {},
   "outputs": [],
   "source": [
    "all_expenses = read_frame(\n",
    "    models.Expense.objects.filter(\n",
    "        grant_heading=\"F\"\n",
    "    ),\n",
    "    fieldnames=[\"fund__claimant\", \"amount_claimed\"]\n",
    ")\n",
    "all_expenses.head()"
   ]
  },
  {
   "cell_type": "code",
   "execution_count": null,
   "metadata": {},
   "outputs": [],
   "source": [
    "expenses_per_fellow = all_expenses.groupby([\"fund__claimant\"]).sum().astype(float).sort_values(by=['amount_claimed'])\n",
    "expenses_per_fellow.head()"
   ]
  },
  {
   "cell_type": "code",
   "execution_count": null,
   "metadata": {},
   "outputs": [],
   "source": [
    "expenses_mean = float(expenses_per_fellow.mean())\n",
    "\n",
    "plt = expenses_per_fellow.plot(  # Draw plot of expenses per fellow\n",
    "    kind=\"bar\"\n",
    ")\n",
    "plt.axhline(  # Draw read line with mean\n",
    "    expenses_mean,\n",
    "    color='r'\n",
    ")"
   ]
  },
  {
   "cell_type": "code",
   "execution_count": null,
   "metadata": {},
   "outputs": [],
   "source": [
    "all_expenses = read_frame(\n",
    "    models.Expense.objects.filter(\n",
    "        grant_heading=\"F\"\n",
    "    ),\n",
    "    fieldnames=[\"fund__claimant__application_year\", \"fund__claimant\", \"amount_claimed\"]\n",
    ")\n",
    "\n",
    "expenses_per_year = all_expenses.groupby([\"fund__claimant__application_year\", \"fund__claimant\"]).sum().astype(float)\n",
    "expenses_per_year.head()"
   ]
  },
  {
   "cell_type": "code",
   "execution_count": null,
   "metadata": {},
   "outputs": [],
   "source": [
    "expenses_per_year = all_expenses.groupby([\"fund__claimant__application_year\"])\n",
    "for year, year_group in expenses_per_year:\n",
    "    df = year_group[[\"fund__claimant\", \"amount_claimed\"]].groupby([\"fund__claimant\"]).sum().astype(float).sort_values(by=['amount_claimed'])\n",
    "    expenses_mean = float(df.mean())\n",
    "    plt = df.plot(  # Draw plot of expenses per fellow\n",
    "        kind=\"bar\"\n",
    "    )\n",
    "    plt.axhline(  # Draw read line with mean\n",
    "        expenses_mean,\n",
    "        color='r'\n",
    "    )"
   ]
  }
 ],
 "metadata": {
  "kernelspec": {
   "display_name": "Django Shell-Plus",
   "language": "python",
   "name": "django_extensions"
  },
  "language_info": {
   "codemirror_mode": {
    "name": "ipython",
    "version": 3
   },
   "file_extension": ".py",
   "mimetype": "text/x-python",
   "name": "python",
   "nbconvert_exporter": "python",
   "pygments_lexer": "ipython3",
   "version": "3.6.0"
  }
 },
 "nbformat": 4,
 "nbformat_minor": 2
}
